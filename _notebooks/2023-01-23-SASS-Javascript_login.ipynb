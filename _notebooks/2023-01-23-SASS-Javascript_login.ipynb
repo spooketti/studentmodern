{
 "cells": [
  {
   "cell_type": "markdown",
   "metadata": {},
   "source": [
    "---\n",
    "toc: true \n",
    "comments: false \n",
    "layout: default\n",
    "title: SASS Javascript Login Page \n",
    "type: hacks \n",
    "courses: { compsci: {week: 13} }\n",
    "---"
   ]
  },
  {
   "cell_type": "markdown",
   "metadata": {},
   "source": [
    "# SASS / Javascript Login and Signup Page\n"
   ]
  },
  {
   "cell_type": "markdown",
   "metadata": {},
   "source": [
    "## Brief Overview:\n",
    "SASS stands for Synthetically Awesome Style Sheet. It's widely used to extend CSS (markup styling sheet language) and it compiles its code into CSS for styling HTML elements. It enhances and simplifies styling processes for web development, which makes it much easier to style projects.\n"
   ]
  },
  {
   "cell_type": "markdown",
   "metadata": {},
   "source": [
    "## FrontEnd/BackEnd of Login Systems:\n",
    "The Flask backend of the login sets up special paths to handle requests for login and signup. From the user input, different HTTP status codes are produced, such as 200 for success, 401 for unauthorized, and 403 for forbidden. Other outcomes are JSON responses, which are returned to the front end, an example would be “login successful”. The Flask backend secures authentication logic, ensuring secure verification of login credentials. On the front end, HTML forms capture user input for login and signup, and JavaScript uses the Fetch API sends asynchronous POST requests to the Flask backend. The status codes and response data are then used to dynamically update the user interface, providing real-time feedback to users.\n",
    "\n",
    "Aside with this, developers use SASS to make login pages colorful and aesthetic.\n"
   ]
  },
  {
   "cell_type": "markdown",
   "metadata": {},
   "source": [
    "## Common HTML Elements:\n",
    "- Input fields (input), where users can enter their username and password\n",
    "- Containers (div), to act as the boxes to control layout and group elements together\n",
    "- Card (div), holds related items like input buttons\n",
    "\n"
   ]
  },
  {
   "cell_type": "markdown",
   "metadata": {},
   "source": [
    "## Common HTML Properties:\n",
    "Buttons: onclick - when the user clicks a button it executes a JS function\n",
    "Placeholders - displays text in a area where the user inputs, like “enter username”\n",
    "Class - categorizes elements\n"
   ]
  },
  {
   "cell_type": "markdown",
   "metadata": {},
   "source": [
    "## Hack 1\n",
    "SASS is an extension of which language?\n",
    "\n",
    "1. JavaScript\n",
    "2. HTML\n",
    "3. CSS\n",
    "4. PHP\n"
   ]
  },
  {
   "cell_type": "markdown",
   "metadata": {},
   "source": [
    "## Hack 2\n",
    "Which of the two images have better SASS\n",
    "\n",
    "![](https://raw.githubusercontent.com/SOoctosnake/SASSLogin/0ae87c49652cc81004624caa84be6051e35a25fc//hack1.png)\n",
    "\n",
    "\n",
    "![](https://raw.githubusercontent.com/SOoctosnake/SASSLogin/0ae87c49652cc81004624caa84be6051e35a25fc//hack2.png)\n"
   ]
  },
  {
   "cell_type": "markdown",
   "metadata": {},
   "source": []
  },
  {
   "cell_type": "markdown",
   "metadata": {},
   "source": [
    "## Process of Creating a Login Screen\n",
    "1. Gather user input\n",
    "2. Develop a frontend function to send authentication requests to the backend\n",
    "3. Implement backend methods to permit authenticated users to send GET requests when accessing the frontend database\n",
    "4. Integrate backend methods into the frontend\n",
    "5. Check authentication using the JWT method and retrieve the database if successful\n",
    "6. Manage errors for authentication failures\n"
   ]
  },
  {
   "cell_type": "markdown",
   "metadata": {},
   "source": [
    "## Adding Login:\n",
    "1. Establish a frontend login function for sending authentication requests to the backend, including user input as variables\n",
    "2. Create a database page method calling a GET method, ensuring authentication before displaying data\n",
    "3. Include error handling for failed authentication\n"
   ]
  },
  {
   "cell_type": "markdown",
   "metadata": {},
   "source": [
    "## Steps:\n",
    "1. Collect user information\n",
    "2. Encode user data as URL parameters\n",
    "3. Send a POST request to the backend for user creation\n"
   ]
  }
 ],
 "metadata": {
  "language_info": {
   "name": "python"
  }
 },
 "nbformat": 4,
 "nbformat_minor": 2
}
