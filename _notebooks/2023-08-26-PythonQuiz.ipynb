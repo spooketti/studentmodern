{
 "cells": [
  {
   "cell_type": "markdown",
   "metadata": {},
   "source": [
    "---\n",
    "comments: true\n",
    "layout: post\n",
    "title: Quiz\n",
    "description: quizical\n",
    "type: hacks\n",
    "courses: { compsci: {week: 2} }\n",
    "categories: [C4.1]\n",
    "---"
   ]
  },
  {
   "cell_type": "code",
   "execution_count": 2,
   "metadata": {},
   "outputs": [
    {
     "name": "stdout",
     "output_type": "stream",
     "text": [
      "Hi Jonli running C:\\Users\\Jonli\\AppData\\Local\\Microsoft\\WindowsApps\\PythonSoftwareFoundation.Python.3.8_qbz5n2kfra8p0\\python.exe\n",
      "What evaluates if something is true or false\n",
      "correct\n",
      "if statements use _____ to determine if something is true or false\n",
      "correct\n",
      "what is a essentially a block of code callable at any time in Python\n",
      "def is correct!\n",
      "Jonli you got a3/3\n"
     ]
    }
   ],
   "source": [
    "import getpass, sys\n",
    "\n",
    "\n",
    "\n",
    "def qanda(question):\n",
    "    print(question)\n",
    "    response = input()\n",
    "    return response\n",
    "\n",
    "correctAnswers = 0\n",
    "questions = 0\n",
    "\n",
    "\n",
    "\n",
    "print('Hi ' + getpass.getuser() + \" running \" + sys.executable)\n",
    "\n",
    "currentQuestion = qanda(\"What evaluates if something is true or false\")\n",
    "if currentQuestion == \"if\":\n",
    "    print(\"correct\")\n",
    "    correctAnswers += 1\n",
    "else:\n",
    "    print(\"nuh uh\" + currentQuestion + \" is wrong\")\n",
    "questions += 1\n",
    "\n",
    "currentQuestion = qanda(\"if statements use _____ to determine if something is true or false\")\n",
    "if currentQuestion == \"condition\":\n",
    "    print(\"correct\")\n",
    "    correctAnswers += 1\n",
    "else:\n",
    "    print(\"nuh uh\" + currentQuestion + \" is wrong\")\n",
    "questions += 1\n",
    "\n",
    "currentQuestion = qanda(\"what is a essentially a block of code callable at any time in Python\")\n",
    "if currentQuestion == \"def\":\n",
    "    print(currentQuestion + \" is correct!\")\n",
    "    correctAnswers += 1\n",
    "else:\n",
    "    print(currentQuestion + \" is not correct!\")\n",
    "questions += 1\n",
    "\n",
    "print(getpass.getuser() + \" you got a \" + str(correctAnswers) +\"/\" + str(questions))\n",
    "\n",
    "\n",
    "     "
   ]
  }
 ],
 "metadata": {
  "kernelspec": {
   "display_name": "Python 3",
   "language": "python",
   "name": "python3"
  },
  "language_info": {
   "codemirror_mode": {
    "name": "ipython",
    "version": 3
   },
   "file_extension": ".py",
   "mimetype": "text/x-python",
   "name": "python",
   "nbconvert_exporter": "python",
   "pygments_lexer": "ipython3",
   "version": "3.8.10"
  },
  "orig_nbformat": 4
 },
 "nbformat": 4,
 "nbformat_minor": 2
}
